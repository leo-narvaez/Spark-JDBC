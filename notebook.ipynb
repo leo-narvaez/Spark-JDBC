{
 "cells": [
  {
   "cell_type": "markdown",
   "metadata": {
    "application/vnd.databricks.v1+cell": {
     "cellMetadata": {},
     "inputWidgets": {},
     "nuid": "861b5915-d23d-40e7-ac83-d4ec0d147fd2",
     "showTitle": false,
     "tableResultSettingsMap": {},
     "title": ""
    }
   },
   "source": [
    "# Spark JDBC"
   ]
  },
  {
   "cell_type": "markdown",
   "metadata": {
    "application/vnd.databricks.v1+cell": {
     "cellMetadata": {},
     "inputWidgets": {},
     "nuid": "c2aa4003-cfa9-4cc7-bd5d-43a218f6239e",
     "showTitle": false,
     "tableResultSettingsMap": {},
     "title": ""
    }
   },
   "source": [
    "En el corazón de la integración de Spark con bases de datos relacionales encontramos JDBC (Java Database Connectivity). JDBC actúa como un puente esencial, proporcionando una interfaz estandarizada que permite a las aplicaciones Spark comunicarse con bases de datos relacionales. Esta interfaz no es simplemente un canal de comunicación; es un conjunto completo de protocolos y estándares que facilitan operaciones de lectura y escritura de manera eficiente y segura."
   ]
  },
  {
   "cell_type": "markdown",
   "metadata": {
    "application/vnd.databricks.v1+cell": {
     "cellMetadata": {},
     "inputWidgets": {},
     "nuid": "686f0cb7-efc7-4805-88ef-1c2ca3943825",
     "showTitle": false,
     "tableResultSettingsMap": {},
     "title": ""
    }
   },
   "source": [
    "## Spark SQL y su Relación con JDBC"
   ]
  },
  {
   "cell_type": "markdown",
   "metadata": {
    "application/vnd.databricks.v1+cell": {
     "cellMetadata": {},
     "inputWidgets": {},
     "nuid": "6e68a8a0-2453-4365-b3a5-caa44f7a4b72",
     "showTitle": false,
     "tableResultSettingsMap": {},
     "title": ""
    }
   },
   "source": [
    "Spark SQL emerge como uno de los módulos más poderosos dentro del ecosistema Spark. Este módulo introduce el concepto de DataFrames, una abstracción que permite trabajar con datos estructurados de manera intuitiva y eficiente. Cuando combinamos Spark SQL con JDBC, obtenemos una herramienta extremadamente versátil para el procesamiento de datos.  \n",
    "\n",
    "La integración de Spark SQL con JDBC va más allá de simples operaciones de lectura y escritura. El sistema permite ejecutar consultas complejas que se benefician del procesamiento distribuido de Spark, mientras mantiene la integridad y las características ACID de las bases de datos relacionales. Esta simbiosis permite aprovechar lo mejor de ambos mundos: la escalabilidad de Spark y la confiabilidad de las bases de datos relacionales."
   ]
  },
  {
   "cell_type": "markdown",
   "metadata": {
    "application/vnd.databricks.v1+cell": {
     "cellMetadata": {},
     "inputWidgets": {},
     "nuid": "d1da152e-443f-4b19-a19f-de098f26f97e",
     "showTitle": false,
     "tableResultSettingsMap": {},
     "title": ""
    }
   },
   "source": [
    "## Arquitectura"
   ]
  },
  {
   "cell_type": "markdown",
   "metadata": {
    "application/vnd.databricks.v1+cell": {
     "cellMetadata": {},
     "inputWidgets": {},
     "nuid": "3d1f72ac-9d16-49d5-aeba-31baa3f46968",
     "showTitle": false,
     "tableResultSettingsMap": {},
     "title": ""
    }
   },
   "source": [
    "La arquitectura de la integración Spark-JDBC se construye sobre varios componentes fundamentales que trabajan en conjunto. El Driver JDBC actúa como el intérprete principal, traduciendo las instrucciones de Spark en comandos que la base de datos puede entender. Este componente maneja no solo la traducción de comandos, sino también la gestión de tipos de datos y la optimización de consultas.  \n",
    "\n",
    "El Connection Pool representa otro componente crucial en esta arquitectura. En lugar de crear nuevas conexiones para cada operación, mantiene un conjunto de conexiones activas que pueden ser reutilizadas. Este enfoque reduce significativamente la sobrecarga asociada con el establecimiento de conexiones y mejora el rendimiento general del sistema.  \n",
    "\n",
    "El sistema de particionamiento en esta arquitectura merece especial atención. Permite dividir grandes conjuntos de datos en fragmentos manejables que pueden procesarse en paralelo. Este particionamiento no es arbitrario; se basa en estrategias sofisticadas que consideran la distribución de datos y los recursos disponibles."
   ]
  },
  {
   "cell_type": "markdown",
   "metadata": {
    "application/vnd.databricks.v1+cell": {
     "cellMetadata": {},
     "inputWidgets": {},
     "nuid": "8c818c61-fcdd-4545-87ec-d43dca2204ca",
     "showTitle": false,
     "tableResultSettingsMap": {},
     "title": ""
    }
   },
   "source": [
    "## Operaciones y Optimización"
   ]
  },
  {
   "cell_type": "markdown",
   "metadata": {
    "application/vnd.databricks.v1+cell": {
     "cellMetadata": {},
     "inputWidgets": {},
     "nuid": "f0b3f3f7-13ca-4b73-984b-fa6bcfbde2d0",
     "showTitle": false,
     "tableResultSettingsMap": {},
     "title": ""
    }
   },
   "source": [
    "Las operaciones en el contexto de Spark-JDBC pueden clasificarse en tres categorías principales: lectura, escritura y transformación. Las operaciones de lectura pueden variar desde la simple recuperación de tablas completas hasta consultas complejas con múltiples joins y agregaciones. La escritura, por otro lado, puede implicar inserciones masivas, actualizaciones o operaciones de upsert.  \n",
    "\n",
    "La optimización en este contexto es un arte complejo. El push-down de predicados representa una de las técnicas más importantes, permitiendo que los filtros se ejecuten en la base de datos antes de que los datos se transfieran a Spark. Esto puede reducir significativamente la cantidad de datos transferidos y mejorar el rendimiento general.  \n",
    "\n",
    "La gestión de recursos y la configuración de parámetros juegan un papel crucial en el rendimiento. El tamaño del fetch, el número de particiones y el tamaño del batch deben ajustarse cuidadosamente según las características específicas de cada caso de uso. Estos ajustes pueden tener un impacto significativo en el rendimiento y la utilización de recursos."
   ]
  },
  {
   "cell_type": "markdown",
   "metadata": {
    "application/vnd.databricks.v1+cell": {
     "cellMetadata": {},
     "inputWidgets": {},
     "nuid": "b15af09e-1ecf-45e7-8aae-7fd59d84d84d",
     "showTitle": false,
     "tableResultSettingsMap": {},
     "title": ""
    }
   },
   "source": [
    "## Ejemplo de conexión de JDBC desde Databricks Community con SQL Server de Azure. "
   ]
  },
  {
   "cell_type": "markdown",
   "metadata": {
    "application/vnd.databricks.v1+cell": {
     "cellMetadata": {},
     "inputWidgets": {},
     "nuid": "ae483a59-d879-4f6e-80d7-ef7c70d7c6e0",
     "showTitle": false,
     "tableResultSettingsMap": {},
     "title": ""
    }
   },
   "source": [
    "### Creación de SQL Server en Azure  \n",
    "\n",
    "- Crear un grupo de recursos. Luego crear un recurso > Bases de datos > **SQL Database**  \n",
    "- Configura los detalles:  \n",
    "  -. Nombre del sesrvidor SQL: databricks-sql-server  \n",
    "  -. Región: Italy North u otra disponible  \n",
    "  -. Autenticación: Habilita SQL Authentication y configura:  \n",
    "    1. Usuario: `adminuser`  \n",
    "    2. Contraseña: `ContraseñaFuerte123`  \n",
    "- Marca la casilla de \"Habilitar acceso a Azure Services\"  \n",
    "  "
   ]
  },
  {
   "cell_type": "markdown",
   "metadata": {
    "application/vnd.databricks.v1+cell": {
     "cellMetadata": {},
     "inputWidgets": {},
     "nuid": "9433b300-8347-4583-921f-1593e70f6c1c",
     "showTitle": false,
     "tableResultSettingsMap": {},
     "title": ""
    }
   },
   "source": [
    "### Crear la base de datos: AdventureWorksLT  \n",
    "\n",
    "- En la misma sección, crea una base de datos con nombre cualquiera (en este ejemplo le hemos llamado db-notebook-4). Selecciona el servidor creado (databricks-sql-server).Nivel de precio: Elige el plan más económico (Básico - DTU: 5).   \n",
    "- Ve al servidor que has creado y en networking configurar el firewall. Añade la IP pública de tu conexión local y habilita \"Permitir acceso a todos los servicios de Azure\". Habilita la dirección IP publica de databricks, suele ser: 54.200.13.2. Guarda los cambios.  \n",
    "- En Additional settings, en Data Source escoger Sample para que se habilite la carga de AdventureWorksLT. Lo demas se deja por defecto.  \n"
   ]
  },
  {
   "cell_type": "markdown",
   "metadata": {
    "application/vnd.databricks.v1+cell": {
     "cellMetadata": {},
     "inputWidgets": {},
     "nuid": "ec8d515c-ea7d-4463-81a9-668c3beb72a5",
     "showTitle": false,
     "tableResultSettingsMap": {},
     "title": ""
    }
   },
   "source": [
    "### Configurar Databricks Community Edition  \n",
    "Ve a la pestaña Computey selecciona Create Compute con estos requisitos:  \n",
    "  - Cluster Name: AdventureWorksCluster.  \n",
    "  - Databricks Runtime Version: 11.3 LTS (Scala 2.12, Spark 3.3.1)  \n",
    "  - Crear clúster.  \n",
    "  - Mientras el clúster se esta creando, descarga el controlador JDBC para SQL Server, en este caso usaremos [este](https://tajamar365.sharepoint.com/:u:/s/3405-MasterIA2024-2025/EeR4l4udCBFClfiDcBhI7PMBG-VfNpuLHlAQ7a1FVBC5OA?e=Igqclx).  \n",
    "  - En Databricks subir el controlador a tu workspace o a tu DBFS.\n",
    "  - Una vez que el cluster esté activo ve al Cluster y en el boton Libraries cargar el controlador haciendo click en `Install New` y le pasas el path donde has guardado el controlador.  "
   ]
  },
  {
   "cell_type": "markdown",
   "metadata": {
    "application/vnd.databricks.v1+cell": {
     "cellMetadata": {},
     "inputWidgets": {},
     "nuid": "52a5772c-05af-40fc-a657-db29410cdf70",
     "showTitle": false,
     "tableResultSettingsMap": {},
     "title": ""
    }
   },
   "source": [
    "### Conectar Databricks con SQL Server  \n",
    "Crea un notebook en Databricks y añade el siguiente código ( con tus datos de configuración) :"
   ]
  },
  {
   "cell_type": "code",
   "execution_count": 0,
   "metadata": {
    "application/vnd.databricks.v1+cell": {
     "cellMetadata": {
      "byteLimit": 2048000,
      "rowLimit": 10000
     },
     "inputWidgets": {},
     "nuid": "094ba7c2-252e-451c-afd8-f5a02e00c4ed",
     "showTitle": false,
     "tableResultSettingsMap": {},
     "title": ""
    }
   },
   "outputs": [
    {
     "output_type": "stream",
     "name": "stdout",
     "output_type": "stream",
     "text": [
      "+---------+--------------------+-------------+-----+------------+---------+----+-------+-----------------+--------------+-------------------+-------------------+----------------+--------------------+----------------------+--------------------+--------------------+\n|ProductID|                Name|ProductNumber|Color|StandardCost|ListPrice|Size| Weight|ProductCategoryID|ProductModelID|      SellStartDate|        SellEndDate|DiscontinuedDate|      ThumbNailPhoto|ThumbnailPhotoFileName|             rowguid|        ModifiedDate|\n+---------+--------------------+-------------+-----+------------+---------+----+-------+-----------------+--------------+-------------------+-------------------+----------------+--------------------+----------------------+--------------------+--------------------+\n|      680|HL Road Frame - B...|   FR-R92B-58|Black|   1059.3100|1431.5000|  58|1016.04|               18|             6|2002-06-01 00:00:00|               null|            null|[47 49 46 38 39 6...|  no_image_availabl...|43DD68D6-14A4-461...|2008-03-11 10:01:...|\n|      706|HL Road Frame - R...|   FR-R92R-58|  Red|   1059.3100|1431.5000|  58|1016.04|               18|             6|2002-06-01 00:00:00|               null|            null|[47 49 46 38 39 6...|  no_image_availabl...|9540FF17-2712-4C9...|2008-03-11 10:01:...|\n|      707|Sport-100 Helmet,...|    HL-U509-R|  Red|     13.0863|  34.9900|null|   null|               35|            33|2005-07-01 00:00:00|               null|            null|[47 49 46 38 39 6...|  no_image_availabl...|2E1EF41A-C08A-4FF...|2008-03-11 10:01:...|\n|      708|Sport-100 Helmet,...|      HL-U509|Black|     13.0863|  34.9900|null|   null|               35|            33|2005-07-01 00:00:00|               null|            null|[47 49 46 38 39 6...|  no_image_availabl...|A25A44FB-C2DE-426...|2008-03-11 10:01:...|\n|      709|Mountain Bike Soc...|    SO-B909-M|White|      3.3963|   9.5000|   M|   null|               27|            18|2005-07-01 00:00:00|2006-06-30 00:00:00|            null|[47 49 46 38 39 6...|  no_image_availabl...|18F95F47-1540-4E0...|2008-03-11 10:01:...|\n|      710|Mountain Bike Soc...|    SO-B909-L|White|      3.3963|   9.5000|   L|   null|               27|            18|2005-07-01 00:00:00|2006-06-30 00:00:00|            null|[47 49 46 38 39 6...|  no_image_availabl...|161C035E-21B3-4E1...|2008-03-11 10:01:...|\n|      711|Sport-100 Helmet,...|    HL-U509-B| Blue|     13.0863|  34.9900|null|   null|               35|            33|2005-07-01 00:00:00|               null|            null|[47 49 46 38 39 6...|  no_image_availabl...|FD7C0858-4179-48C...|2008-03-11 10:01:...|\n|      712|        AWC Logo Cap|      CA-1098|Multi|      6.9223|   8.9900|null|   null|               23|             2|2005-07-01 00:00:00|               null|            null|[47 49 46 38 39 6...|  no_image_availabl...|B9EDE243-A6F4-462...|2008-03-11 10:01:...|\n|      713|Long-Sleeve Logo ...|    LJ-0192-S|Multi|     38.4923|  49.9900|   S|   null|               25|            11|2005-07-01 00:00:00|               null|            null|[47 49 46 38 39 6...|  awc_jersey_male_s...|FD449C82-A259-4FA...|2008-03-11 10:01:...|\n|      714|Long-Sleeve Logo ...|    LJ-0192-M|Multi|     38.4923|  49.9900|   M|   null|               25|            11|2005-07-01 00:00:00|               null|            null|[47 49 46 38 39 6...|  awc_jersey_male_s...|6A290063-A0CF-432...|2008-03-11 10:01:...|\n+---------+--------------------+-------------+-----+------------+---------+----+-------+-----------------+--------------+-------------------+-------------------+----------------+--------------------+----------------------+--------------------+--------------------+\n\n"
     ]
    }
   ],
   "source": [
    "# Configuración de conexión JDBC\n",
    "jdbcHostname = \"databricks-sql-server.database.windows.net\"  # Servidor SQL\n",
    "jdbcPort = 1433\n",
    "jdbcDatabase = \"db-notebook-4\"  # Nombre exacto de tu base de datos\n",
    "jdbcUsername = \"user\"  # Cambiar por tu usuario configurado\n",
    "jdbcPassword = \"Admin12345\"  # Cambiar por la contraseña configurada\n",
    "\n",
    "jdbcUrl = f\"jdbc:sqlserver://{jdbcHostname}:{jdbcPort};databaseName={jdbcDatabase}\"\n",
    "\n",
    "# Propiedades de conexión\n",
    "connectionProperties = {\n",
    "    \"user\": jdbcUsername,\n",
    "    \"password\": jdbcPassword,\n",
    "    \"driver\": \"com.microsoft.sqlserver.jdbc.SQLServerDriver\"\n",
    "}"
   ]
  },
  {
   "cell_type": "markdown",
   "metadata": {
    "application/vnd.databricks.v1+cell": {
     "cellMetadata": {},
     "inputWidgets": {},
     "nuid": "5a066fd5-d149-42a9-94ca-cd1614fbf08f",
     "showTitle": false,
     "tableResultSettingsMap": {},
     "title": ""
    }
   },
   "source": [
    "### Consulta de Prueba"
   ]
  },
  {
   "cell_type": "code",
   "execution_count": 0,
   "metadata": {
    "application/vnd.databricks.v1+cell": {
     "cellMetadata": {
      "byteLimit": 2048000,
      "rowLimit": 10000
     },
     "inputWidgets": {},
     "nuid": "10d1f951-3e1d-44bb-ac97-6875e138cba4",
     "showTitle": false,
     "tableResultSettingsMap": {},
     "title": ""
    }
   },
   "outputs": [
    {
     "output_type": "stream",
     "name": "stdout",
     "output_type": "stream",
     "text": [
      "+---------+--------------------+-------------+-----+------------+---------+----+-------+-----------------+--------------+-------------------+-------------------+----------------+--------------------+----------------------+--------------------+--------------------+\n|ProductID|                Name|ProductNumber|Color|StandardCost|ListPrice|Size| Weight|ProductCategoryID|ProductModelID|      SellStartDate|        SellEndDate|DiscontinuedDate|      ThumbNailPhoto|ThumbnailPhotoFileName|             rowguid|        ModifiedDate|\n+---------+--------------------+-------------+-----+------------+---------+----+-------+-----------------+--------------+-------------------+-------------------+----------------+--------------------+----------------------+--------------------+--------------------+\n|      680|HL Road Frame - B...|   FR-R92B-58|Black|   1059.3100|1431.5000|  58|1016.04|               18|             6|2002-06-01 00:00:00|               null|            null|[47 49 46 38 39 6...|  no_image_availabl...|43DD68D6-14A4-461...|2008-03-11 10:01:...|\n|      706|HL Road Frame - R...|   FR-R92R-58|  Red|   1059.3100|1431.5000|  58|1016.04|               18|             6|2002-06-01 00:00:00|               null|            null|[47 49 46 38 39 6...|  no_image_availabl...|9540FF17-2712-4C9...|2008-03-11 10:01:...|\n|      707|Sport-100 Helmet,...|    HL-U509-R|  Red|     13.0863|  34.9900|null|   null|               35|            33|2005-07-01 00:00:00|               null|            null|[47 49 46 38 39 6...|  no_image_availabl...|2E1EF41A-C08A-4FF...|2008-03-11 10:01:...|\n|      708|Sport-100 Helmet,...|      HL-U509|Black|     13.0863|  34.9900|null|   null|               35|            33|2005-07-01 00:00:00|               null|            null|[47 49 46 38 39 6...|  no_image_availabl...|A25A44FB-C2DE-426...|2008-03-11 10:01:...|\n|      709|Mountain Bike Soc...|    SO-B909-M|White|      3.3963|   9.5000|   M|   null|               27|            18|2005-07-01 00:00:00|2006-06-30 00:00:00|            null|[47 49 46 38 39 6...|  no_image_availabl...|18F95F47-1540-4E0...|2008-03-11 10:01:...|\n|      710|Mountain Bike Soc...|    SO-B909-L|White|      3.3963|   9.5000|   L|   null|               27|            18|2005-07-01 00:00:00|2006-06-30 00:00:00|            null|[47 49 46 38 39 6...|  no_image_availabl...|161C035E-21B3-4E1...|2008-03-11 10:01:...|\n|      711|Sport-100 Helmet,...|    HL-U509-B| Blue|     13.0863|  34.9900|null|   null|               35|            33|2005-07-01 00:00:00|               null|            null|[47 49 46 38 39 6...|  no_image_availabl...|FD7C0858-4179-48C...|2008-03-11 10:01:...|\n|      712|        AWC Logo Cap|      CA-1098|Multi|      6.9223|   8.9900|null|   null|               23|             2|2005-07-01 00:00:00|               null|            null|[47 49 46 38 39 6...|  no_image_availabl...|B9EDE243-A6F4-462...|2008-03-11 10:01:...|\n|      713|Long-Sleeve Logo ...|    LJ-0192-S|Multi|     38.4923|  49.9900|   S|   null|               25|            11|2005-07-01 00:00:00|               null|            null|[47 49 46 38 39 6...|  awc_jersey_male_s...|FD449C82-A259-4FA...|2008-03-11 10:01:...|\n|      714|Long-Sleeve Logo ...|    LJ-0192-M|Multi|     38.4923|  49.9900|   M|   null|               25|            11|2005-07-01 00:00:00|               null|            null|[47 49 46 38 39 6...|  awc_jersey_male_s...|6A290063-A0CF-432...|2008-03-11 10:01:...|\n+---------+--------------------+-------------+-----+------------+---------+----+-------+-----------------+--------------+-------------------+-------------------+----------------+--------------------+----------------------+--------------------+--------------------+\n\n"
     ]
    }
   ],
   "source": [
    "# Consulta de prueba\n",
    "query = \"(SELECT TOP 10 * FROM SalesLT.Product) AS temp\"  # Cambia por una tabla válida si es necesario\n",
    "\n",
    "# Leer datos desde SQL Server\n",
    "try:\n",
    "    df = spark.read.jdbc(url=jdbcUrl, table=query, properties=connectionProperties)\n",
    "    df.show()  # Mostrar los datos\n",
    "except Exception as e:\n",
    "    print(f\"Error al conectar: {e}\")"
   ]
  },
  {
   "cell_type": "markdown",
   "metadata": {
    "application/vnd.databricks.v1+cell": {
     "cellMetadata": {},
     "inputWidgets": {},
     "nuid": "1ce71a96-eb37-4746-bc14-6824e81b0223",
     "showTitle": false,
     "tableResultSettingsMap": {},
     "title": ""
    }
   },
   "source": [
    "### Prueba con consultas simples usando Pyspark:  \n",
    " "
   ]
  },
  {
   "cell_type": "markdown",
   "metadata": {
    "application/vnd.databricks.v1+cell": {
     "cellMetadata": {},
     "inputWidgets": {},
     "nuid": "867ef1fd-a3b4-4958-9aa2-0aaf65b754ab",
     "showTitle": false,
     "tableResultSettingsMap": {},
     "title": ""
    }
   },
   "source": [
    "#### 1. Listar Listar todas las tablas disponibles"
   ]
  },
  {
   "cell_type": "code",
   "execution_count": 0,
   "metadata": {
    "application/vnd.databricks.v1+cell": {
     "cellMetadata": {
      "byteLimit": 2048000,
      "rowLimit": 10000
     },
     "inputWidgets": {},
     "nuid": "25e4e6fb-2e4f-4b54-b569-be2445653ebb",
     "showTitle": false,
     "tableResultSettingsMap": {},
     "title": ""
    }
   },
   "outputs": [
    {
     "output_type": "stream",
     "name": "stdout",
     "output_type": "stream",
     "text": [
      "+--------------------+\n|          TABLE_NAME|\n+--------------------+\n|            Customer|\n|        ProductModel|\n|  ProductDescription|\n|             Product|\n|ProductModelProdu...|\n|     ProductCategory|\n|        BuildVersion|\n|            ErrorLog|\n|             Address|\n|     CustomerAddress|\n|    SalesOrderDetail|\n|    SalesOrderHeader|\n+--------------------+\n\n"
     ]
    }
   ],
   "source": [
    "query = \"(SELECT TABLE_NAME FROM INFORMATION_SCHEMA.TABLES WHERE TABLE_TYPE = 'BASE TABLE') AS temp\"\n",
    "df_tables = spark.read.jdbc(url=jdbcUrl, table=query, properties=connectionProperties)\n",
    "df_tables.show()\n"
   ]
  },
  {
   "cell_type": "markdown",
   "metadata": {
    "application/vnd.databricks.v1+cell": {
     "cellMetadata": {},
     "inputWidgets": {},
     "nuid": "64f8b516-9fea-4e98-b9f0-05d6aff32a14",
     "showTitle": false,
     "tableResultSettingsMap": {},
     "title": ""
    }
   },
   "source": [
    "#### 2. Productos con precios mayores a $50"
   ]
  },
  {
   "cell_type": "code",
   "execution_count": 0,
   "metadata": {
    "application/vnd.databricks.v1+cell": {
     "cellMetadata": {
      "byteLimit": 2048000,
      "rowLimit": 10000
     },
     "inputWidgets": {},
     "nuid": "a19af243-c9c8-406b-8b3a-6542015c43f9",
     "showTitle": false,
     "tableResultSettingsMap": {},
     "title": ""
    }
   },
   "outputs": [
    {
     "output_type": "stream",
     "name": "stdout",
     "output_type": "stream",
     "text": [
      "+---------+--------------------+---------+\n|ProductID|                Name|ListPrice|\n+---------+--------------------+---------+\n|      680|HL Road Frame - B...|1431.5000|\n|      706|HL Road Frame - R...|1431.5000|\n|      717|HL Road Frame - R...|1431.5000|\n|      718|HL Road Frame - R...|1431.5000|\n|      719|HL Road Frame - R...|1431.5000|\n|      720|HL Road Frame - R...|1431.5000|\n|      721|HL Road Frame - R...|1431.5000|\n|      722|LL Road Frame - B...| 337.2200|\n|      723|LL Road Frame - B...| 337.2200|\n|      724|LL Road Frame - B...| 337.2200|\n|      725|LL Road Frame - R...| 337.2200|\n|      726|LL Road Frame - R...| 337.2200|\n|      727|LL Road Frame - R...| 337.2200|\n|      728|LL Road Frame - R...| 337.2200|\n|      729|LL Road Frame - R...| 337.2200|\n|      730|LL Road Frame - R...| 337.2200|\n|      731|ML Road Frame - R...| 594.8300|\n|      732|ML Road Frame - R...| 594.8300|\n|      733|ML Road Frame - R...| 594.8300|\n|      734|ML Road Frame - R...| 594.8300|\n+---------+--------------------+---------+\nonly showing top 20 rows\n\n"
     ]
    }
   ],
   "source": [
    "query = \"(SELECT ProductID, Name, ListPrice FROM SalesLT.Product WHERE ListPrice > 50) AS temp\"\n",
    "df_filtered = spark.read.jdbc(url=jdbcUrl, table=query, properties=connectionProperties)\n",
    "df_filtered.show()\n"
   ]
  },
  {
   "cell_type": "markdown",
   "metadata": {
    "application/vnd.databricks.v1+cell": {
     "cellMetadata": {},
     "inputWidgets": {},
     "nuid": "da1418f3-6105-4371-be8c-861e762b2d90",
     "showTitle": false,
     "tableResultSettingsMap": {},
     "title": ""
    }
   },
   "source": [
    "#### 4. Contar productos por categoría"
   ]
  },
  {
   "cell_type": "code",
   "execution_count": 0,
   "metadata": {
    "application/vnd.databricks.v1+cell": {
     "cellMetadata": {
      "byteLimit": 2048000,
      "rowLimit": 10000
     },
     "inputWidgets": {},
     "nuid": "bbec12f2-2772-48c8-a249-b2cc5533c694",
     "showTitle": false,
     "tableResultSettingsMap": {},
     "title": ""
    }
   },
   "outputs": [
    {
     "output_type": "stream",
     "name": "stdout",
     "output_type": "stream",
     "text": [
      "+-----------------+-------------+\n|ProductCategoryID|TotalProducts|\n+-----------------+-------------+\n|                5|           32|\n|                6|           43|\n|                7|           22|\n|                8|            8|\n|                9|            3|\n|               10|            2|\n|               11|            1|\n|               12|            3|\n|               13|            2|\n|               14|            3|\n|               15|            3|\n|               16|           28|\n|               17|            7|\n|               18|           33|\n|               19|            9|\n|               20|           18|\n|               21|           14|\n|               22|            3|\n|               23|            1|\n|               24|            6|\n+-----------------+-------------+\nonly showing top 20 rows\n\n"
     ]
    }
   ],
   "source": [
    "query = \"\"\"\n",
    "(SELECT ProductCategoryID, COUNT(*) AS TotalProducts\n",
    " FROM SalesLT.Product\n",
    " GROUP BY ProductCategoryID) AS temp\n",
    "\"\"\"\n",
    "df_count = spark.read.jdbc(url=jdbcUrl, table=query, properties=connectionProperties)\n",
    "df_count.show()\n"
   ]
  },
  {
   "cell_type": "markdown",
   "metadata": {
    "application/vnd.databricks.v1+cell": {
     "cellMetadata": {},
     "inputWidgets": {},
     "nuid": "7a5d5647-d4bf-413a-93aa-b3e9029fdc79",
     "showTitle": false,
     "tableResultSettingsMap": {},
     "title": ""
    }
   },
   "source": [
    "> Actividad: Mejorar la query anterior"
   ]
  },
  {
   "cell_type": "markdown",
   "metadata": {
    "application/vnd.databricks.v1+cell": {
     "cellMetadata": {},
     "inputWidgets": {},
     "nuid": "7dcd65fd-58cc-473a-82f6-a46ffc28bb64",
     "showTitle": false,
     "tableResultSettingsMap": {},
     "title": ""
    }
   },
   "source": [
    "#### 5. Contar el total de productos por tamaño"
   ]
  },
  {
   "cell_type": "code",
   "execution_count": 0,
   "metadata": {
    "application/vnd.databricks.v1+cell": {
     "cellMetadata": {
      "byteLimit": 2048000,
      "rowLimit": 10000
     },
     "inputWidgets": {},
     "nuid": "4c3e66bf-a66f-4019-9752-8e072b35ebf3",
     "showTitle": false,
     "tableResultSettingsMap": {},
     "title": ""
    }
   },
   "outputs": [
    {
     "output_type": "stream",
     "name": "stdout",
     "output_type": "stream",
     "text": [
      "+----+-----+\n|Size|count|\n+----+-----+\n|null|    4|\n|   M|    2|\n|  58|    2|\n|   L|    1|\n|   S|    1|\n+----+-----+\n\n"
     ]
    }
   ],
   "source": [
    "df.groupBy(\"Size\").count().orderBy(\"count\", ascending=False).show()\n"
   ]
  },
  {
   "cell_type": "markdown",
   "metadata": {
    "application/vnd.databricks.v1+cell": {
     "cellMetadata": {},
     "inputWidgets": {},
     "nuid": "54eb53aa-31eb-444d-916c-9d228f3898cc",
     "showTitle": false,
     "tableResultSettingsMap": {},
     "title": ""
    }
   },
   "source": [
    "> Mejorar/corregir la query anterior"
   ]
  },
  {
   "cell_type": "markdown",
   "metadata": {
    "application/vnd.databricks.v1+cell": {
     "cellMetadata": {},
     "inputWidgets": {},
     "nuid": "b281d0ea-4158-4f94-b996-16a3113ce7e7",
     "showTitle": false,
     "tableResultSettingsMap": {},
     "title": ""
    }
   },
   "source": [
    "#### 6. Calcular el precio promedio de los productos"
   ]
  },
  {
   "cell_type": "code",
   "execution_count": 0,
   "metadata": {
    "application/vnd.databricks.v1+cell": {
     "cellMetadata": {
      "byteLimit": 2048000,
      "rowLimit": 10000
     },
     "inputWidgets": {},
     "nuid": "f9841f48-8db1-491f-93d7-ff643b0b3d6b",
     "showTitle": false,
     "tableResultSettingsMap": {},
     "title": ""
    }
   },
   "outputs": [
    {
     "output_type": "stream",
     "name": "stdout",
     "output_type": "stream",
     "text": [
      "+------------+\n|AveragePrice|\n+------------+\n|309.59400000|\n+------------+\n\n"
     ]
    }
   ],
   "source": [
    "df.selectExpr(\"AVG(ListPrice) AS AveragePrice\").show()\n"
   ]
  },
  {
   "cell_type": "markdown",
   "metadata": {
    "application/vnd.databricks.v1+cell": {
     "cellMetadata": {},
     "inputWidgets": {},
     "nuid": "e9ff2b9b-d9d2-42cc-9b6d-f7107d1ac355",
     "showTitle": false,
     "tableResultSettingsMap": {},
     "title": ""
    }
   },
   "source": [
    "> ¿y si obtenemos el precio promedio por cada producto?. Mejorar la query"
   ]
  },
  {
   "cell_type": "markdown",
   "metadata": {
    "application/vnd.databricks.v1+cell": {
     "cellMetadata": {},
     "inputWidgets": {},
     "nuid": "05b49463-a5af-4c3d-ac84-f2cb5c34edb1",
     "showTitle": false,
     "tableResultSettingsMap": {},
     "title": ""
    }
   },
   "source": [
    "#### 7. Encontrar productos sin categoría asignada"
   ]
  },
  {
   "cell_type": "code",
   "execution_count": 0,
   "metadata": {
    "application/vnd.databricks.v1+cell": {
     "cellMetadata": {
      "byteLimit": 2048000,
      "rowLimit": 10000
     },
     "inputWidgets": {},
     "nuid": "32a9a322-ab0a-4047-95c4-18ddae59fe15",
     "showTitle": false,
     "tableResultSettingsMap": {},
     "title": ""
    }
   },
   "outputs": [
    {
     "output_type": "stream",
     "name": "stdout",
     "output_type": "stream",
     "text": [
      "+---------+----+-----------------+\n|ProductID|Name|ProductCategoryID|\n+---------+----+-----------------+\n+---------+----+-----------------+\n\n"
     ]
    }
   ],
   "source": [
    "df.filter(df.ProductCategoryID.isNull()).select(\"ProductID\", \"Name\", \"ProductCategoryID\").show()\n"
   ]
  },
  {
   "cell_type": "markdown",
   "metadata": {
    "application/vnd.databricks.v1+cell": {
     "cellMetadata": {},
     "inputWidgets": {},
     "nuid": "ca51ad6f-9179-4ede-b52b-20f5d531d7e8",
     "showTitle": false,
     "tableResultSettingsMap": {},
     "title": ""
    }
   },
   "source": [
    "> ¿Es la query anterior correcta? Demostrar con otra query que si"
   ]
  },
  {
   "cell_type": "markdown",
   "metadata": {
    "application/vnd.databricks.v1+cell": {
     "cellMetadata": {},
     "inputWidgets": {},
     "nuid": "b95df561-8062-4c14-9763-64dd16a2d4d1",
     "showTitle": false,
     "tableResultSettingsMap": {},
     "title": ""
    }
   },
   "source": [
    "#### 8. Contar productos por color"
   ]
  },
  {
   "cell_type": "code",
   "execution_count": 0,
   "metadata": {
    "application/vnd.databricks.v1+cell": {
     "cellMetadata": {
      "byteLimit": 2048000,
      "rowLimit": 10000
     },
     "inputWidgets": {},
     "nuid": "7a74facd-2c8e-4ca1-acc2-44b8493e9ba3",
     "showTitle": false,
     "tableResultSettingsMap": {},
     "title": ""
    }
   },
   "outputs": [
    {
     "output_type": "stream",
     "name": "stdout",
     "output_type": "stream",
     "text": [
      "+-----+-----+\n|Color|count|\n+-----+-----+\n|Multi|    3|\n|White|    2|\n|Black|    2|\n|  Red|    2|\n| Blue|    1|\n+-----+-----+\n\n"
     ]
    }
   ],
   "source": [
    "df.groupBy(\"Color\").count().orderBy(\"count\", ascending=False).show()\n"
   ]
  },
  {
   "cell_type": "markdown",
   "metadata": {
    "application/vnd.databricks.v1+cell": {
     "cellMetadata": {},
     "inputWidgets": {},
     "nuid": "c57052e4-fdb5-4904-a631-ed6b036adb5d",
     "showTitle": false,
     "tableResultSettingsMap": {},
     "title": ""
    }
   },
   "source": [
    "#### 9. Calcular el costo total de todos los productos"
   ]
  },
  {
   "cell_type": "code",
   "execution_count": 0,
   "metadata": {
    "application/vnd.databricks.v1+cell": {
     "cellMetadata": {
      "byteLimit": 2048000,
      "rowLimit": 10000
     },
     "inputWidgets": {},
     "nuid": "5c0889f6-da1e-4886-9f9e-22b8f0c58968",
     "showTitle": false,
     "tableResultSettingsMap": {},
     "title": ""
    }
   },
   "outputs": [
    {
     "output_type": "stream",
     "name": "stdout",
     "output_type": "stream",
     "text": [
      "+---------+\n|TotalCost|\n+---------+\n|2248.5784|\n+---------+\n\n"
     ]
    }
   ],
   "source": [
    "df.selectExpr(\"SUM(StandardCost) AS TotalCost\").show()\n"
   ]
  },
  {
   "cell_type": "markdown",
   "metadata": {
    "application/vnd.databricks.v1+cell": {
     "cellMetadata": {},
     "inputWidgets": {},
     "nuid": "fac80ce3-331c-4b4a-bff1-68ab23a826f5",
     "showTitle": false,
     "tableResultSettingsMap": {},
     "title": ""
    }
   },
   "source": [
    "> Mejorar query anterior"
   ]
  },
  {
   "cell_type": "markdown",
   "metadata": {
    "application/vnd.databricks.v1+cell": {
     "cellMetadata": {},
     "inputWidgets": {},
     "nuid": "6213e34c-a4ae-41f3-b891-1779b78842a4",
     "showTitle": false,
     "tableResultSettingsMap": {},
     "title": ""
    }
   },
   "source": [
    "#### 10. Productos que contienen una palabra específica en su nombre "
   ]
  },
  {
   "cell_type": "code",
   "execution_count": 0,
   "metadata": {
    "application/vnd.databricks.v1+cell": {
     "cellMetadata": {
      "byteLimit": 2048000,
      "rowLimit": 10000
     },
     "inputWidgets": {},
     "nuid": "6068f129-2287-41e8-848a-99e77a3ae1ca",
     "showTitle": false,
     "tableResultSettingsMap": {},
     "title": ""
    }
   },
   "outputs": [
    {
     "output_type": "stream",
     "name": "stdout",
     "output_type": "stream",
     "text": [
      "+---------+--------------------+---------+\n|ProductID|                Name|ListPrice|\n+---------+--------------------+---------+\n|      707|Sport-100 Helmet,...|  34.9900|\n|      708|Sport-100 Helmet,...|  34.9900|\n|      711|Sport-100 Helmet,...|  34.9900|\n+---------+--------------------+---------+\n\n"
     ]
    }
   ],
   "source": [
    "# Filtrar productos que contienen la palabra 'Helmet' en el nombre\n",
    "df.filter(df.Name.contains(\"Helmet\")).select(\"ProductID\", \"Name\", \"ListPrice\").show()\n"
   ]
  },
  {
   "cell_type": "markdown",
   "metadata": {
    "application/vnd.databricks.v1+cell": {
     "cellMetadata": {},
     "inputWidgets": {},
     "nuid": "7c2a62a2-be8e-44e9-9d45-ec599bec64cf",
     "showTitle": false,
     "tableResultSettingsMap": {},
     "title": ""
    }
   },
   "source": [
    "> Lista los nombres de todos los productos"
   ]
  },
  {
   "cell_type": "markdown",
   "metadata": {
    "application/vnd.databricks.v1+cell": {
     "cellMetadata": {},
     "inputWidgets": {},
     "nuid": "f49cbbca-9d2d-45f8-927a-8bff3bc3aef6",
     "showTitle": false,
     "tableResultSettingsMap": {},
     "title": ""
    }
   },
   "source": [
    "#### 11. Listar productos creados después de 2005"
   ]
  },
  {
   "cell_type": "code",
   "execution_count": 0,
   "metadata": {
    "application/vnd.databricks.v1+cell": {
     "cellMetadata": {
      "byteLimit": 2048000,
      "rowLimit": 10000
     },
     "inputWidgets": {},
     "nuid": "c4afc55d-19fa-49cc-b827-888c757da32d",
     "showTitle": false,
     "tableResultSettingsMap": {},
     "title": ""
    }
   },
   "outputs": [
    {
     "output_type": "stream",
     "name": "stdout",
     "output_type": "stream",
     "text": [
      "+---------+--------------------+-------------------+\n|ProductID|                Name|      SellStartDate|\n+---------+--------------------+-------------------+\n|      707|Sport-100 Helmet,...|2005-07-01 00:00:00|\n|      708|Sport-100 Helmet,...|2005-07-01 00:00:00|\n|      709|Mountain Bike Soc...|2005-07-01 00:00:00|\n|      710|Mountain Bike Soc...|2005-07-01 00:00:00|\n|      711|Sport-100 Helmet,...|2005-07-01 00:00:00|\n|      712|        AWC Logo Cap|2005-07-01 00:00:00|\n|      713|Long-Sleeve Logo ...|2005-07-01 00:00:00|\n|      714|Long-Sleeve Logo ...|2005-07-01 00:00:00|\n+---------+--------------------+-------------------+\n\n"
     ]
    }
   ],
   "source": [
    "df.filter(df.SellStartDate >= \"2005-01-01\").select(\"ProductID\", \"Name\", \"SellStartDate\").show()\n"
   ]
  },
  {
   "cell_type": "markdown",
   "metadata": {
    "application/vnd.databricks.v1+cell": {
     "cellMetadata": {},
     "inputWidgets": {},
     "nuid": "3c8b53e9-4d1b-466c-9a7e-279be80dc9f5",
     "showTitle": false,
     "tableResultSettingsMap": {},
     "title": ""
    }
   },
   "source": [
    "#### 12. Producto más caro por categoría "
   ]
  },
  {
   "cell_type": "code",
   "execution_count": 0,
   "metadata": {
    "application/vnd.databricks.v1+cell": {
     "cellMetadata": {
      "byteLimit": 2048000,
      "rowLimit": 10000
     },
     "inputWidgets": {},
     "nuid": "9f88ae5d-197f-4c3f-91aa-e23167d24ed9",
     "showTitle": false,
     "tableResultSettingsMap": {},
     "title": ""
    }
   },
   "outputs": [
    {
     "output_type": "stream",
     "name": "stdout",
     "output_type": "stream",
     "text": [
      "+-----------------+---------+\n|ProductCategoryID| MaxPrice|\n+-----------------+---------+\n|               18|1431.5000|\n|               25|  49.9900|\n|               35|  34.9900|\n|               27|   9.5000|\n|               23|   8.9900|\n+-----------------+---------+\n\n"
     ]
    }
   ],
   "source": [
    "from pyspark.sql.functions import col, max as spark_max\n",
    "\n",
    "df.groupBy(\"ProductCategoryID\").agg(spark_max(\"ListPrice\").alias(\"MaxPrice\")).orderBy(\"MaxPrice\", ascending=False).show()\n"
   ]
  },
  {
   "cell_type": "markdown",
   "metadata": {
    "application/vnd.databricks.v1+cell": {
     "cellMetadata": {},
     "inputWidgets": {},
     "nuid": "34deeab2-0eef-4046-8fa0-697d22ef31ef",
     "showTitle": false,
     "tableResultSettingsMap": {},
     "title": ""
    }
   },
   "source": [
    "#### 13. Calcular el precio promedio por categoría"
   ]
  },
  {
   "cell_type": "code",
   "execution_count": 0,
   "metadata": {
    "application/vnd.databricks.v1+cell": {
     "cellMetadata": {
      "byteLimit": 2048000,
      "rowLimit": 10000
     },
     "inputWidgets": {},
     "nuid": "2d221689-7755-4190-8a8c-bb6c47ecce28",
     "showTitle": false,
     "tableResultSettingsMap": {},
     "title": ""
    }
   },
   "outputs": [
    {
     "output_type": "stream",
     "name": "stdout",
     "output_type": "stream",
     "text": [
      "+-----------------+-------------+\n|ProductCategoryID| AveragePrice|\n+-----------------+-------------+\n|               18|1431.50000000|\n|               25|  49.99000000|\n|               35|  34.99000000|\n|               27|   9.50000000|\n|               23|   8.99000000|\n+-----------------+-------------+\n\n"
     ]
    }
   ],
   "source": [
    "from pyspark.sql.functions import avg\n",
    "\n",
    "df.groupBy(\"ProductCategoryID\").agg(avg(\"ListPrice\").alias(\"AveragePrice\")).orderBy(\"AveragePrice\", ascending=False).show()\n"
   ]
  },
  {
   "cell_type": "markdown",
   "metadata": {
    "application/vnd.databricks.v1+cell": {
     "cellMetadata": {},
     "inputWidgets": {},
     "nuid": "405d2373-0279-4645-8ed9-e9b5d5088a28",
     "showTitle": false,
     "tableResultSettingsMap": {},
     "title": ""
    }
   },
   "source": [
    "> Mejorar query anterior"
   ]
  },
  {
   "cell_type": "markdown",
   "metadata": {
    "application/vnd.databricks.v1+cell": {
     "cellMetadata": {},
     "inputWidgets": {},
     "nuid": "c9e1f2a6-af5f-4028-ac2d-82ac40559cbe",
     "showTitle": false,
     "tableResultSettingsMap": {},
     "title": ""
    }
   },
   "source": [
    "#### 14. Encontrar productos descontinuados (Discontinued no es NULL)"
   ]
  },
  {
   "cell_type": "code",
   "execution_count": 0,
   "metadata": {
    "application/vnd.databricks.v1+cell": {
     "cellMetadata": {
      "byteLimit": 2048000,
      "rowLimit": 10000
     },
     "inputWidgets": {},
     "nuid": "33d3dc8a-a2fa-46f5-a82d-b719c4b57a8d",
     "showTitle": false,
     "tableResultSettingsMap": {},
     "title": ""
    }
   },
   "outputs": [
    {
     "output_type": "stream",
     "name": "stdout",
     "output_type": "stream",
     "text": [
      "+---------+----+----------------+\n|ProductID|Name|DiscontinuedDate|\n+---------+----+----------------+\n+---------+----+----------------+\n\n"
     ]
    }
   ],
   "source": [
    "df.filter(df.DiscontinuedDate.isNotNull()).select(\"ProductID\", \"Name\", \"DiscontinuedDate\").show()\n"
   ]
  },
  {
   "cell_type": "markdown",
   "metadata": {
    "application/vnd.databricks.v1+cell": {
     "cellMetadata": {},
     "inputWidgets": {},
     "nuid": "dcb4883c-4375-4435-9d32-e60be710e6ca",
     "showTitle": false,
     "tableResultSettingsMap": {},
     "title": ""
    }
   },
   "source": [
    "> Comprueba con otra query que la salida anterior es correcta"
   ]
  },
  {
   "cell_type": "markdown",
   "metadata": {
    "application/vnd.databricks.v1+cell": {
     "cellMetadata": {},
     "inputWidgets": {},
     "nuid": "f9e14bae-9b89-499f-aa6d-ceef86e62759",
     "showTitle": false,
     "tableResultSettingsMap": {},
     "title": ""
    }
   },
   "source": [
    "#### 15. Productos con precios mayores que su costo estándar "
   ]
  },
  {
   "cell_type": "code",
   "execution_count": 0,
   "metadata": {
    "application/vnd.databricks.v1+cell": {
     "cellMetadata": {
      "byteLimit": 2048000,
      "rowLimit": 10000
     },
     "inputWidgets": {},
     "nuid": "dbc44d2f-c6c1-4d49-a98f-89418af275a8",
     "showTitle": false,
     "tableResultSettingsMap": {},
     "title": ""
    }
   },
   "outputs": [
    {
     "output_type": "stream",
     "name": "stdout",
     "output_type": "stream",
     "text": [
      "+---------+--------------------+---------+------------+\n|ProductID|                Name|ListPrice|StandardCost|\n+---------+--------------------+---------+------------+\n|      680|HL Road Frame - B...|1431.5000|   1059.3100|\n|      706|HL Road Frame - R...|1431.5000|   1059.3100|\n|      707|Sport-100 Helmet,...|  34.9900|     13.0863|\n|      708|Sport-100 Helmet,...|  34.9900|     13.0863|\n|      709|Mountain Bike Soc...|   9.5000|      3.3963|\n|      710|Mountain Bike Soc...|   9.5000|      3.3963|\n|      711|Sport-100 Helmet,...|  34.9900|     13.0863|\n|      712|        AWC Logo Cap|   8.9900|      6.9223|\n|      713|Long-Sleeve Logo ...|  49.9900|     38.4923|\n|      714|Long-Sleeve Logo ...|  49.9900|     38.4923|\n+---------+--------------------+---------+------------+\n\n"
     ]
    }
   ],
   "source": [
    "df.filter(df.ListPrice > df.StandardCost).select(\"ProductID\", \"Name\", \"ListPrice\", \"StandardCost\").show()"
   ]
  },
  {
   "cell_type": "markdown",
   "metadata": {
    "application/vnd.databricks.v1+cell": {
     "cellMetadata": {},
     "inputWidgets": {},
     "nuid": "f0d9cd61-4152-41df-8547-b93d4aad5237",
     "showTitle": false,
     "tableResultSettingsMap": {},
     "title": ""
    }
   },
   "source": [
    "### Actividad 1: Repetir las consultas anteriores pero usando SQL (no pyspark) "
   ]
  },
  {
   "cell_type": "markdown",
   "metadata": {
    "application/vnd.databricks.v1+cell": {
     "cellMetadata": {},
     "inputWidgets": {},
     "nuid": "83decf07-e8d5-4b62-867c-75b7879d1845",
     "showTitle": false,
     "tableResultSettingsMap": {},
     "title": ""
    }
   },
   "source": [
    "#### Registrar las tablas que utilizarás como tabla temporal, por ejemplo:"
   ]
  },
  {
   "cell_type": "code",
   "execution_count": 0,
   "metadata": {
    "application/vnd.databricks.v1+cell": {
     "cellMetadata": {
      "byteLimit": 2048000,
      "rowLimit": 10000
     },
     "inputWidgets": {},
     "nuid": "7c8b1e9f-6771-49c4-8ad5-88b1d1fd17ab",
     "showTitle": false,
     "tableResultSettingsMap": {},
     "title": ""
    }
   },
   "outputs": [],
   "source": [
    "query = \"(SELECT * FROM SalesLT.Product) AS temp\"\n",
    "df = spark.read.jdbc(url=jdbcUrl, table=query, properties=connectionProperties)\n",
    "df.createOrReplaceTempView(\"Product\")\n"
   ]
  },
  {
   "cell_type": "code",
   "execution_count": 0,
   "metadata": {
    "application/vnd.databricks.v1+cell": {
     "cellMetadata": {
      "byteLimit": 2048000,
      "implicitDf": true,
      "rowLimit": 10000
     },
     "inputWidgets": {},
     "nuid": "d9214c72-5c70-4bd2-b202-b21a4c9aa762",
     "showTitle": false,
     "tableResultSettingsMap": {},
     "title": ""
    }
   },
   "outputs": [
    {
     "output_type": "display_data",
     "data": {
      "text/html": [
       "<style scoped>\n",
       "  .table-result-container {\n",
       "    max-height: 300px;\n",
       "    overflow: auto;\n",
       "  }\n",
       "  table, th, td {\n",
       "    border: 1px solid black;\n",
       "    border-collapse: collapse;\n",
       "  }\n",
       "  th, td {\n",
       "    padding: 5px;\n",
       "  }\n",
       "  th {\n",
       "    text-align: left;\n",
       "  }\n",
       "</style><div class='table-result-container'><table class='table-result'><thead style='background-color: white'><tr><th>ProductID</th><th>Name</th><th>ListPrice</th></tr></thead><tbody><tr><td>749</td><td>Road-150 Red, 62</td><td>3578.2700</td></tr><tr><td>753</td><td>Road-150 Red, 56</td><td>3578.2700</td></tr><tr><td>750</td><td>Road-150 Red, 44</td><td>3578.2700</td></tr><tr><td>751</td><td>Road-150 Red, 48</td><td>3578.2700</td></tr><tr><td>752</td><td>Road-150 Red, 52</td><td>3578.2700</td></tr></tbody></table></div>"
      ]
     },
     "metadata": {
      "application/vnd.databricks.v1+output": {
       "addedWidgets": {},
       "aggData": [],
       "aggError": "",
       "aggOverflow": false,
       "aggSchema": [],
       "aggSeriesLimitReached": false,
       "aggType": "",
       "arguments": {},
       "columnCustomDisplayInfos": {},
       "data": [
        [
         749,
         "Road-150 Red, 62",
         "3578.2700"
        ],
        [
         753,
         "Road-150 Red, 56",
         "3578.2700"
        ],
        [
         750,
         "Road-150 Red, 44",
         "3578.2700"
        ],
        [
         751,
         "Road-150 Red, 48",
         "3578.2700"
        ],
        [
         752,
         "Road-150 Red, 52",
         "3578.2700"
        ]
       ],
       "datasetInfos": [],
       "dbfsResultPath": null,
       "isJsonSchema": true,
       "metadata": {},
       "overflow": false,
       "plotOptions": {
        "customPlotOptions": {},
        "displayType": "table",
        "pivotAggregation": null,
        "pivotColumns": null,
        "xColumns": null,
        "yColumns": null
       },
       "removedWidgets": [],
       "schema": [
        {
         "metadata": "{\"scale\":0}",
         "name": "ProductID",
         "type": "\"integer\""
        },
        {
         "metadata": "{\"scale\":0}",
         "name": "Name",
         "type": "\"string\""
        },
        {
         "metadata": "{\"scale\":4}",
         "name": "ListPrice",
         "type": "\"decimal(19,4)\""
        }
       ],
       "type": "table"
      }
     },
     "output_type": "display_data"
    }
   ],
   "source": [
    "%sql\n",
    "SELECT ProductID, Name, ListPrice\n",
    "FROM Product\n",
    "ORDER BY ListPrice DESC\n",
    "LIMIT 5;\n"
   ]
  },
  {
   "cell_type": "markdown",
   "metadata": {
    "application/vnd.databricks.v1+cell": {
     "cellMetadata": {},
     "inputWidgets": {},
     "nuid": "fc2ca06d-6014-47b6-aa41-9d06014a8d86",
     "showTitle": false,
     "tableResultSettingsMap": {},
     "title": ""
    }
   },
   "source": [
    "### Actividad 2. Utilizando PySpark responda a las siguientes preguntas:"
   ]
  },
  {
   "cell_type": "markdown",
   "metadata": {
    "application/vnd.databricks.v1+cell": {
     "cellMetadata": {},
     "inputWidgets": {},
     "nuid": "f9748ed2-ea51-435a-8e53-47bd5e9be936",
     "showTitle": false,
     "tableResultSettingsMap": {},
     "title": ""
    }
   },
   "source": [
    "#### 1. Escribe un código para calcular cuántos productos tienen un ListPrice mayor que el precio promedio de todos los productos."
   ]
  },
  {
   "cell_type": "markdown",
   "metadata": {
    "application/vnd.databricks.v1+cell": {
     "cellMetadata": {},
     "inputWidgets": {},
     "nuid": "4b644195-cb9f-4d8a-9f99-b5b58a3e9b30",
     "showTitle": false,
     "tableResultSettingsMap": {},
     "title": ""
    }
   },
   "source": [
    "#### 2. Filtra todos los productos cuyo nombre comience con la letra \"A\" y muestra su ProductID, Name y ListPrice."
   ]
  },
  {
   "cell_type": "markdown",
   "metadata": {
    "application/vnd.databricks.v1+cell": {
     "cellMetadata": {},
     "inputWidgets": {},
     "nuid": "7f57d69d-cbe3-420d-a4d4-f00d4f55a488",
     "showTitle": false,
     "tableResultSettingsMap": {},
     "title": ""
    }
   },
   "source": [
    "#### 3. Calcula la desviación estándar de la columna StandardCost."
   ]
  },
  {
   "cell_type": "markdown",
   "metadata": {
    "application/vnd.databricks.v1+cell": {
     "cellMetadata": {},
     "inputWidgets": {},
     "nuid": "4ff0669e-d842-4967-8f87-87a209993052",
     "showTitle": false,
     "tableResultSettingsMap": {},
     "title": ""
    }
   },
   "source": [
    "#### 4. Ordena los productos por ListPrice en orden ascendente y muestra los 10 productos más baratos. "
   ]
  },
  {
   "cell_type": "markdown",
   "metadata": {
    "application/vnd.databricks.v1+cell": {
     "cellMetadata": {},
     "inputWidgets": {},
     "nuid": "21e95156-82c4-46b9-a7d2-92779200b510",
     "showTitle": false,
     "tableResultSettingsMap": {},
     "title": ""
    }
   },
   "source": [
    "#### 5. Filtra los productos cuyo tamaño sea \"M\" y cuyo precio sea mayor a $50. "
   ]
  },
  {
   "cell_type": "markdown",
   "metadata": {
    "application/vnd.databricks.v1+cell": {
     "cellMetadata": {},
     "inputWidgets": {},
     "nuid": "07f3e6dc-cf82-4279-bcd1-a40575c4b499",
     "showTitle": false,
     "tableResultSettingsMap": {},
     "title": ""
    }
   },
   "source": [
    "#### 6. Escribe un código para contar los productos donde la columna Color es nula"
   ]
  },
  {
   "cell_type": "markdown",
   "metadata": {
    "application/vnd.databricks.v1+cell": {
     "cellMetadata": {},
     "inputWidgets": {},
     "nuid": "5515aac1-5de1-4417-ba8f-42b9a5043fdc",
     "showTitle": false,
     "tableResultSettingsMap": {},
     "title": ""
    }
   },
   "source": [
    "#### 7. Escribe un código para listar todas las combinaciones únicas de Color y Size en la tabla."
   ]
  },
  {
   "cell_type": "markdown",
   "metadata": {
    "application/vnd.databricks.v1+cell": {
     "cellMetadata": {},
     "inputWidgets": {},
     "nuid": "a47b3003-b38b-4add-8250-cff249644da2",
     "showTitle": false,
     "tableResultSettingsMap": {},
     "title": ""
    }
   },
   "source": [
    "#### 8. Calcula la diferencia promedio entre ListPrice y StandardCost para todos los productos. "
   ]
  },
  {
   "cell_type": "markdown",
   "metadata": {
    "application/vnd.databricks.v1+cell": {
     "cellMetadata": {},
     "inputWidgets": {},
     "nuid": "7b5262e5-2cfc-422b-a655-a8755306885d",
     "showTitle": false,
     "tableResultSettingsMap": {},
     "title": ""
    }
   },
   "source": [
    "#### 9. ¿Cuáles son los productos cuya fecha de modificación se encuentra entre el 11 de marzo de 2008 a las 10:01:00 y el 11 de marzo de 2008 a las 10:03:00, mostrando el ProductID, Name y ModifiedDate?"
   ]
  },
  {
   "cell_type": "markdown",
   "metadata": {
    "application/vnd.databricks.v1+cell": {
     "cellMetadata": {},
     "inputWidgets": {},
     "nuid": "fd3e63f2-cbdf-4960-b992-c0458d0a24b6",
     "showTitle": false,
     "tableResultSettingsMap": {},
     "title": ""
    }
   },
   "source": [
    "#### 10. ¿Cuáles son los productos de cada categoría (ProductCategoryID) que tienen un precio (ListPrice) mayor al costo estándar (StandardCost), y cuántos productos cumplen esta condición por categoría?"
   ]
  },
  {
   "cell_type": "markdown",
   "metadata": {
    "application/vnd.databricks.v1+cell": {
     "cellMetadata": {},
     "inputWidgets": {},
     "nuid": "6e1fb1f5-8b16-41c5-8a51-f18c7e8add2d",
     "showTitle": false,
     "tableResultSettingsMap": {},
     "title": ""
    }
   },
   "source": [
    "#### 11. Filtra los productos cuyo ListPrice esté entre $20 y $100."
   ]
  },
  {
   "cell_type": "markdown",
   "metadata": {
    "application/vnd.databricks.v1+cell": {
     "cellMetadata": {},
     "inputWidgets": {},
     "nuid": "9cf1a030-f883-40c6-a678-c46feda38f56",
     "showTitle": false,
     "tableResultSettingsMap": {},
     "title": ""
    }
   },
   "source": [
    "#### 12. Para cada ProductCategoryID, muestra los 5 productos con el costo (StandardCost) más alto."
   ]
  },
  {
   "cell_type": "markdown",
   "metadata": {
    "application/vnd.databricks.v1+cell": {
     "cellMetadata": {},
     "inputWidgets": {},
     "nuid": "2c4dd018-998c-4f17-8f66-be8e096e2556",
     "showTitle": false,
     "tableResultSettingsMap": {},
     "title": ""
    }
   },
   "source": [
    "#### 13. Filtra los productos cuya columna ThumbNailPhoto no es nula y muestra su ProductID, Name, y ThumbNailPhotoFileName."
   ]
  },
  {
   "cell_type": "markdown",
   "metadata": {
    "application/vnd.databricks.v1+cell": {
     "cellMetadata": {},
     "inputWidgets": {},
     "nuid": "7e522aff-280d-477b-b796-c51803fd106e",
     "showTitle": false,
     "tableResultSettingsMap": {},
     "title": ""
    }
   },
   "source": [
    "#### 14. Agrupa los productos por ProductCategoryID y calcula el precio total (SUM(ListPrice)) por categoría. "
   ]
  },
  {
   "cell_type": "markdown",
   "metadata": {
    "application/vnd.databricks.v1+cell": {
     "cellMetadata": {},
     "inputWidgets": {},
     "nuid": "20927503-3b6d-4099-bd14-3085dc119540",
     "showTitle": false,
     "tableResultSettingsMap": {},
     "title": ""
    }
   },
   "source": [
    "#### 15. Filtra los productos cuya fecha de inicio de venta (SellStartDate) esté entre el 1 de enero de 2005 y el 31 de diciembre de 2006. "
   ]
  },
  {
   "cell_type": "markdown",
   "metadata": {
    "application/vnd.databricks.v1+cell": {
     "cellMetadata": {},
     "inputWidgets": {},
     "nuid": "f91e6d98-e69c-4f8a-9848-9190c01ed84f",
     "showTitle": false,
     "tableResultSettingsMap": {},
     "title": ""
    }
   },
   "source": [
    "### Actividad 3.  \n",
    " La Empresa decide \"migrar\" de sql server a postgreSQL. Efectuar la conexion Databricks Community con PostgreSQL en Azure. Efectuar algunas consultas sobre PostgreSQL usando PySpark y Scala. Utiliza una base de datos cualquiera.  \n",
    "Si la version de community da muchos problemas utilizar Azure Databricks."
   ]
  },
  {
   "cell_type": "code",
   "execution_count": 0,
   "metadata": {
    "application/vnd.databricks.v1+cell": {
     "cellMetadata": {},
     "inputWidgets": {},
     "nuid": "05d03535-b9d7-4708-b2aa-2cebfc18f5e7",
     "showTitle": false,
     "tableResultSettingsMap": {},
     "title": ""
    }
   },
   "outputs": [],
   "source": []
  }
 ],
 "metadata": {
  "application/vnd.databricks.v1+notebook": {
   "dashboards": [],
   "environmentMetadata": null,
   "language": "python",
   "notebookMetadata": {
    "mostRecentlyExecutedCommandWithImplicitDF": {
     "commandId": 2819152767113979,
     "dataframes": [
      "_sqldf"
     ]
    },
    "pythonIndentUnit": 4
   },
   "notebookName": "4 (1)",
   "widgets": {}
  }
 },
 "nbformat": 4,
 "nbformat_minor": 0
}
